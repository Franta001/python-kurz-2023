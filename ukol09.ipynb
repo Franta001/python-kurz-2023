{
 "cells": [
  {
   "cell_type": "code",
   "execution_count": 36,
   "metadata": {},
   "outputs": [],
   "source": [
    "import pandas as pd\n",
    "\n",
    "zam_praha = pd.read_csv(\"zam_praha.csv\")\n",
    "zam_praha[\"mesto\"] = \"Praha\"\n",
    "\n",
    "zam_plzen = pd.read_csv(\"zam_plzen.csv\")\n",
    "zam_plzen[\"mesto\"] = \"Plzeň\"\n",
    "\n",
    "zam_liberec = pd.read_csv(\"zam_liberec.csv\")\n",
    "zam_liberec[\"mesto\"] = \"Liberec\"\n",
    "\n"
   ]
  },
  {
   "cell_type": "code",
   "execution_count": 37,
   "metadata": {},
   "outputs": [],
   "source": [
    "\n",
    "zamestnanci = pd.concat([zam_praha, zam_plzen, zam_liberec], ignore_index=True)\n",
    "zamestnanci.to_csv(\"zamestnanci.csv\", index=False)"
   ]
  },
  {
   "cell_type": "code",
   "execution_count": 38,
   "metadata": {},
   "outputs": [],
   "source": [
    "platy = pd.read_csv(\"platy_2021_02.csv\")"
   ]
  },
  {
   "cell_type": "code",
   "execution_count": 72,
   "metadata": {},
   "outputs": [
    {
     "data": {
      "text/html": [
       "<div>\n",
       "<style scoped>\n",
       "    .dataframe tbody tr th:only-of-type {\n",
       "        vertical-align: middle;\n",
       "    }\n",
       "\n",
       "    .dataframe tbody tr th {\n",
       "        vertical-align: top;\n",
       "    }\n",
       "\n",
       "    .dataframe thead th {\n",
       "        text-align: right;\n",
       "    }\n",
       "</style>\n",
       "<table border=\"1\" class=\"dataframe\">\n",
       "  <thead>\n",
       "    <tr style=\"text-align: right;\">\n",
       "      <th></th>\n",
       "      <th>jmeno</th>\n",
       "      <th>prijimeni</th>\n",
       "      <th>telefonni_cislo</th>\n",
       "      <th>cislo_zamestnance</th>\n",
       "      <th>mesto</th>\n",
       "      <th>plat</th>\n",
       "    </tr>\n",
       "  </thead>\n",
       "  <tbody>\n",
       "    <tr>\n",
       "      <th>0</th>\n",
       "      <td>Brian</td>\n",
       "      <td>Hall</td>\n",
       "      <td>+421 949 656 098</td>\n",
       "      <td>30</td>\n",
       "      <td>Praha</td>\n",
       "      <td>33500.0</td>\n",
       "    </tr>\n",
       "    <tr>\n",
       "      <th>1</th>\n",
       "      <td>Marta</td>\n",
       "      <td>Kolářová</td>\n",
       "      <td>730 456 163</td>\n",
       "      <td>32</td>\n",
       "      <td>Praha</td>\n",
       "      <td>53000.0</td>\n",
       "    </tr>\n",
       "    <tr>\n",
       "      <th>2</th>\n",
       "      <td>John</td>\n",
       "      <td>Moravec</td>\n",
       "      <td>725 092 179</td>\n",
       "      <td>33</td>\n",
       "      <td>Praha</td>\n",
       "      <td>38400.0</td>\n",
       "    </tr>\n",
       "    <tr>\n",
       "      <th>3</th>\n",
       "      <td>Dominika</td>\n",
       "      <td>Kopecká</td>\n",
       "      <td>722 747 626</td>\n",
       "      <td>34</td>\n",
       "      <td>Praha</td>\n",
       "      <td>36800.0</td>\n",
       "    </tr>\n",
       "    <tr>\n",
       "      <th>4</th>\n",
       "      <td>Marcel</td>\n",
       "      <td>Hájek</td>\n",
       "      <td>+421 902 928 669</td>\n",
       "      <td>35</td>\n",
       "      <td>Praha</td>\n",
       "      <td>NaN</td>\n",
       "    </tr>\n",
       "  </tbody>\n",
       "</table>\n",
       "</div>"
      ],
      "text/plain": [
       "      jmeno prijimeni   telefonni_cislo  cislo_zamestnance  mesto     plat\n",
       "0     Brian      Hall  +421 949 656 098                 30  Praha  33500.0\n",
       "1     Marta  Kolářová       730 456 163                 32  Praha  53000.0\n",
       "2      John   Moravec       725 092 179                 33  Praha  38400.0\n",
       "3  Dominika   Kopecká       722 747 626                 34  Praha  36800.0\n",
       "4    Marcel     Hájek  +421 902 928 669                 35  Praha      NaN"
      ]
     },
     "execution_count": 72,
     "metadata": {},
     "output_type": "execute_result"
    }
   ],
   "source": [
    "# Propojení tabulek pomocí čísla zaměstnance\n",
    "zamestnanci_s_platy = pd.merge(zamestnanci, platy, on=\"cislo_zamestnance\", how=\"left\")\n",
    "\n",
    "zamestnanci_s_platy.head()"
   ]
  },
  {
   "cell_type": "code",
   "execution_count": 40,
   "metadata": {},
   "outputs": [
    {
     "name": "stdout",
     "output_type": "stream",
     "text": [
      "Rozměry tabulky se zaměstnanci: (56, 5)\n",
      "Rozměry tabulky s platy: (43, 2)\n",
      "Rozměry spojené tabulky: (56, 6)\n"
     ]
    }
   ],
   "source": [
    "\n",
    "# Porovnání  tabulek\n",
    "print(f\"Rozměry tabulky se zaměstnanci: {zamestnanci.shape}\")\n",
    "print(f\"Rozměry tabulky s platy: {platy.shape}\")\n",
    "print(f\"Rozměry spojené tabulky: {zamestnanci_s_platy.shape}\")\n"
   ]
  },
  {
   "cell_type": "code",
   "execution_count": 41,
   "metadata": {},
   "outputs": [
    {
     "name": "stdout",
     "output_type": "stream",
     "text": [
      "Průměrný plat zaměstnanců v jednotlivých kancelářích:\n",
      " mesto\n",
      "Liberec    43775.000000\n",
      "Plzeň      44792.857143\n",
      "Praha      43295.238095\n",
      "Name: plat, dtype: float64\n"
     ]
    }
   ],
   "source": [
    "# průměrný plat zaměstnanců v jednotlivých kancelářích\n",
    "prumerny_plat = zamestnanci_s_platy.groupby(\"mesto\")[\"plat\"].mean()\n",
    "print(\"Průměrný plat zaměstnanců v jednotlivých kancelářích:\\n\", prumerny_plat)"
   ]
  },
  {
   "cell_type": "code",
   "execution_count": 58,
   "metadata": {},
   "outputs": [
    {
     "name": "stdout",
     "output_type": "stream",
     "text": [
      "Celkový počet vykázaných hodin za jednotlivé projekty:\n",
      " project\n",
      "F30    21.5\n",
      "JL9     2.1\n",
      "TE1    16.0\n",
      "W05    30.5\n",
      "YLI    31.0\n",
      "Name: hours, dtype: float64\n"
     ]
    }
   ],
   "source": [
    "# načtení výkazů\n",
    "import pandas as pa\n",
    "vykazy = pd.read_csv(\"vykazy.csv\")\n",
    "\n",
    "#vykazy\n",
    "\n",
    "# Agregace a  celkový počet vykázaných hodin za jednotlivé projekty\n",
    "celkove_hodiny_projekty = vykazy.groupby('project')['hours'].sum()\n",
    "\n",
    "print(\"Celkový počet vykázaných hodin za jednotlivé projekty:\\n\", celkove_hodiny_projekty)\n"
   ]
  },
  {
   "cell_type": "code",
   "execution_count": 60,
   "metadata": {},
   "outputs": [
    {
     "name": "stdout",
     "output_type": "stream",
     "text": [
      "Počet zaměstnanců, kteří ve firmě již nepracují: 13\n"
     ]
    }
   ],
   "source": [
    "# Zaměstnanci, kteří ve firmě již nepracují\n",
    "nepracuji = zamestnanci_s_platy[zamestnanci_s_platy['plat'].isnull()]\n",
    "\n",
    "# Počty zaměstnanců, kteří ve firmě již nepracují\n",
    "pocet_nepracujicich = len(nepracuji)\n",
    "print(\"Počet zaměstnanců, kteří ve firmě již nepracují:\", pocet_nepracujicich)\n",
    "\n",
    "\n"
   ]
  },
  {
   "cell_type": "code",
   "execution_count": 68,
   "metadata": {},
   "outputs": [
    {
     "data": {
      "text/html": [
       "<div>\n",
       "<style scoped>\n",
       "    .dataframe tbody tr th:only-of-type {\n",
       "        vertical-align: middle;\n",
       "    }\n",
       "\n",
       "    .dataframe tbody tr th {\n",
       "        vertical-align: top;\n",
       "    }\n",
       "\n",
       "    .dataframe thead th {\n",
       "        text-align: right;\n",
       "    }\n",
       "</style>\n",
       "<table border=\"1\" class=\"dataframe\">\n",
       "  <thead>\n",
       "    <tr style=\"text-align: right;\">\n",
       "      <th></th>\n",
       "      <th>jmeno</th>\n",
       "      <th>prijimeni</th>\n",
       "      <th>telefonni_cislo</th>\n",
       "      <th>cislo_zamestnance</th>\n",
       "      <th>mesto</th>\n",
       "      <th>plat</th>\n",
       "    </tr>\n",
       "  </thead>\n",
       "  <tbody>\n",
       "    <tr>\n",
       "      <th>4</th>\n",
       "      <td>Marcel</td>\n",
       "      <td>Hájek</td>\n",
       "      <td>+421 902 928 669</td>\n",
       "      <td>35</td>\n",
       "      <td>Praha</td>\n",
       "      <td>NaN</td>\n",
       "    </tr>\n",
       "    <tr>\n",
       "      <th>12</th>\n",
       "      <td>Karolína</td>\n",
       "      <td>Short</td>\n",
       "      <td>721 589 083</td>\n",
       "      <td>53</td>\n",
       "      <td>Praha</td>\n",
       "      <td>NaN</td>\n",
       "    </tr>\n",
       "    <tr>\n",
       "      <th>13</th>\n",
       "      <td>Michelle</td>\n",
       "      <td>Vlčková</td>\n",
       "      <td>+421 41 720 7806</td>\n",
       "      <td>54</td>\n",
       "      <td>Praha</td>\n",
       "      <td>NaN</td>\n",
       "    </tr>\n",
       "    <tr>\n",
       "      <th>16</th>\n",
       "      <td>John</td>\n",
       "      <td>Bailey</td>\n",
       "      <td>775 021 116</td>\n",
       "      <td>58</td>\n",
       "      <td>Praha</td>\n",
       "      <td>NaN</td>\n",
       "    </tr>\n",
       "    <tr>\n",
       "      <th>17</th>\n",
       "      <td>William</td>\n",
       "      <td>Shelton</td>\n",
       "      <td>+421 47 745 8219</td>\n",
       "      <td>60</td>\n",
       "      <td>Praha</td>\n",
       "      <td>NaN</td>\n",
       "    </tr>\n",
       "    <tr>\n",
       "      <th>18</th>\n",
       "      <td>Miroslava</td>\n",
       "      <td>Veselá</td>\n",
       "      <td>774 029 254</td>\n",
       "      <td>62</td>\n",
       "      <td>Praha</td>\n",
       "      <td>NaN</td>\n",
       "    </tr>\n",
       "    <tr>\n",
       "      <th>21</th>\n",
       "      <td>Nathan</td>\n",
       "      <td>Svoboda</td>\n",
       "      <td>728 710 923</td>\n",
       "      <td>66</td>\n",
       "      <td>Praha</td>\n",
       "      <td>NaN</td>\n",
       "    </tr>\n",
       "    <tr>\n",
       "      <th>24</th>\n",
       "      <td>Robert</td>\n",
       "      <td>Říha</td>\n",
       "      <td>727 351 984</td>\n",
       "      <td>72</td>\n",
       "      <td>Praha</td>\n",
       "      <td>NaN</td>\n",
       "    </tr>\n",
       "    <tr>\n",
       "      <th>33</th>\n",
       "      <td>Jindřich</td>\n",
       "      <td>Howell</td>\n",
       "      <td>+421 39 043 0948</td>\n",
       "      <td>10</td>\n",
       "      <td>Plzeň</td>\n",
       "      <td>NaN</td>\n",
       "    </tr>\n",
       "    <tr>\n",
       "      <th>34</th>\n",
       "      <td>Alexander</td>\n",
       "      <td>Martinez</td>\n",
       "      <td>721 195 689</td>\n",
       "      <td>13</td>\n",
       "      <td>Plzeň</td>\n",
       "      <td>NaN</td>\n",
       "    </tr>\n",
       "    <tr>\n",
       "      <th>48</th>\n",
       "      <td>Jennifer</td>\n",
       "      <td>Brown</td>\n",
       "      <td>775 545 190</td>\n",
       "      <td>86</td>\n",
       "      <td>Liberec</td>\n",
       "      <td>NaN</td>\n",
       "    </tr>\n",
       "    <tr>\n",
       "      <th>50</th>\n",
       "      <td>Robert</td>\n",
       "      <td>Macias</td>\n",
       "      <td>+421 49 929 6856</td>\n",
       "      <td>88</td>\n",
       "      <td>Liberec</td>\n",
       "      <td>NaN</td>\n",
       "    </tr>\n",
       "    <tr>\n",
       "      <th>55</th>\n",
       "      <td>Ivan</td>\n",
       "      <td>Bartoš</td>\n",
       "      <td>603 226 051</td>\n",
       "      <td>99</td>\n",
       "      <td>Liberec</td>\n",
       "      <td>NaN</td>\n",
       "    </tr>\n",
       "  </tbody>\n",
       "</table>\n",
       "</div>"
      ],
      "text/plain": [
       "        jmeno prijimeni   telefonni_cislo  cislo_zamestnance    mesto  plat\n",
       "4      Marcel     Hájek  +421 902 928 669                 35    Praha   NaN\n",
       "12   Karolína     Short       721 589 083                 53    Praha   NaN\n",
       "13   Michelle   Vlčková  +421 41 720 7806                 54    Praha   NaN\n",
       "16       John    Bailey       775 021 116                 58    Praha   NaN\n",
       "17    William   Shelton  +421 47 745 8219                 60    Praha   NaN\n",
       "18  Miroslava    Veselá       774 029 254                 62    Praha   NaN\n",
       "21     Nathan   Svoboda       728 710 923                 66    Praha   NaN\n",
       "24     Robert      Říha       727 351 984                 72    Praha   NaN\n",
       "33   Jindřich    Howell  +421 39 043 0948                 10    Plzeň   NaN\n",
       "34  Alexander  Martinez       721 195 689                 13    Plzeň   NaN\n",
       "48   Jennifer     Brown       775 545 190                 86  Liberec   NaN\n",
       "50     Robert    Macias  +421 49 929 6856                 88  Liberec   NaN\n",
       "55       Ivan    Bartoš       603 226 051                 99  Liberec   NaN"
      ]
     },
     "execution_count": 68,
     "metadata": {},
     "output_type": "execute_result"
    }
   ],
   "source": [
    "nepracuji"
   ]
  },
  {
   "cell_type": "markdown",
   "metadata": {},
   "source": []
  },
  {
   "cell_type": "code",
   "execution_count": 69,
   "metadata": {},
   "outputs": [],
   "source": [
    "# Vytvoření tabulky s jmény zaměstnanců, kteří ve firmě již nepracují\n",
    "nepracujici_tabulka = nepracuji[['jmeno', 'prijimeni', 'mesto']]\n"
   ]
  },
  {
   "cell_type": "code",
   "execution_count": 70,
   "metadata": {},
   "outputs": [],
   "source": [
    "nepracujici_tabulka.to_csv('nepracujici_zamestnanci.csv', index=False)"
   ]
  }
 ],
 "metadata": {
  "kernelspec": {
   "display_name": "Python 3",
   "language": "python",
   "name": "python3"
  },
  "language_info": {
   "codemirror_mode": {
    "name": "ipython",
    "version": 3
   },
   "file_extension": ".py",
   "mimetype": "text/x-python",
   "name": "python",
   "nbconvert_exporter": "python",
   "pygments_lexer": "ipython3",
   "version": "3.11.0"
  }
 },
 "nbformat": 4,
 "nbformat_minor": 2
}
