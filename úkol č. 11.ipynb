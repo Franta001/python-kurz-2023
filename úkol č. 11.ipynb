{
 "cells": [
  {
   "cell_type": "markdown",
   "metadata": {},
   "source": [
    "Platná data\n",
    "\\b(\\d{1,2}[./]\\d{1,2}[./]\\d{4}|\\d{1,2}[./]\\s*\\d{1,2}[./]\\s*\\d{4})\\b"
   ]
  },
  {
   "cell_type": "markdown",
   "metadata": {},
   "source": [
    "PSČ a město\n",
    "\\b(\\d{3}\\s*\\d{2})\\s*((?:\\s+)*)\\b\n",
    "\\b(\\d{3}\\s*\\d{2})\\s*([A-Z][^\\d]+(?:\\s+[A-Z][^\\d]+)*)\\b\n"
   ]
  }
 ],
 "metadata": {
  "kernelspec": {
   "display_name": "Python 3",
   "language": "python",
   "name": "python3"
  },
  "language_info": {
   "codemirror_mode": {
    "name": "ipython",
    "version": 3
   },
   "file_extension": ".py",
   "mimetype": "text/x-python",
   "name": "python",
   "nbconvert_exporter": "python",
   "pygments_lexer": "ipython3",
   "version": "3.11.0"
  }
 },
 "nbformat": 4,
 "nbformat_minor": 2
}
